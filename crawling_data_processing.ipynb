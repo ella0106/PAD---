{
 "cells": [
  {
   "cell_type": "code",
   "execution_count": 2,
   "metadata": {},
   "outputs": [],
   "source": [
    "# 필요한 라이브러리 로드\n",
    "import pandas as pd\n",
    "import numpy as np"
   ]
  },
  {
   "cell_type": "code",
   "execution_count": 1,
   "metadata": {
    "scrolled": true
   },
   "outputs": [
    {
     "name": "stdout",
     "output_type": "stream",
     "text": [
      "C:/Users/user/OneDrive - 이화여자대학교/3-1/05 파이썬과데이터분석/크롤링결과/google_result_남가좌1동.csv\n",
      "C:/Users/user/OneDrive - 이화여자대학교/3-1/05 파이썬과데이터분석/크롤링결과/google_result_남가좌2동.csv\n",
      "C:/Users/user/OneDrive - 이화여자대학교/3-1/05 파이썬과데이터분석/크롤링결과/google_result_북가좌1동.csv\n",
      "C:/Users/user/OneDrive - 이화여자대학교/3-1/05 파이썬과데이터분석/크롤링결과/google_result_북가좌2동.csv\n",
      "C:/Users/user/OneDrive - 이화여자대학교/3-1/05 파이썬과데이터분석/크롤링결과/google_result_북아현동.csv\n",
      "C:/Users/user/OneDrive - 이화여자대학교/3-1/05 파이썬과데이터분석/크롤링결과/google_result_신촌동.csv\n",
      "C:/Users/user/OneDrive - 이화여자대학교/3-1/05 파이썬과데이터분석/크롤링결과/google_result_연희동.csv\n",
      "C:/Users/user/OneDrive - 이화여자대학교/3-1/05 파이썬과데이터분석/크롤링결과/google_result_천연동.csv\n",
      "C:/Users/user/OneDrive - 이화여자대학교/3-1/05 파이썬과데이터분석/크롤링결과/google_result_충현동.csv\n",
      "C:/Users/user/OneDrive - 이화여자대학교/3-1/05 파이썬과데이터분석/크롤링결과/google_result_홍은1동.csv\n",
      "C:/Users/user/OneDrive - 이화여자대학교/3-1/05 파이썬과데이터분석/크롤링결과/google_result_홍은2동.csv\n",
      "C:/Users/user/OneDrive - 이화여자대학교/3-1/05 파이썬과데이터분석/크롤링결과/google_result_홍제1동.csv\n",
      "C:/Users/user/OneDrive - 이화여자대학교/3-1/05 파이썬과데이터분석/크롤링결과/google_result_홍제2동.csv\n",
      "C:/Users/user/OneDrive - 이화여자대학교/3-1/05 파이썬과데이터분석/크롤링결과/google_result_홍제3동.csv\n",
      "C:/Users/user/OneDrive - 이화여자대학교/3-1/05 파이썬과데이터분석/크롤링결과/남가좌1동_naver_result.csv\n",
      "C:/Users/user/OneDrive - 이화여자대학교/3-1/05 파이썬과데이터분석/크롤링결과/남가좌2동_naver_result.csv\n",
      "C:/Users/user/OneDrive - 이화여자대학교/3-1/05 파이썬과데이터분석/크롤링결과/북가좌1동_naver_result.csv\n",
      "C:/Users/user/OneDrive - 이화여자대학교/3-1/05 파이썬과데이터분석/크롤링결과/북가좌2동_naver_result.csv\n",
      "C:/Users/user/OneDrive - 이화여자대학교/3-1/05 파이썬과데이터분석/크롤링결과/북아현동_naver_result.csv\n",
      "C:/Users/user/OneDrive - 이화여자대학교/3-1/05 파이썬과데이터분석/크롤링결과/신촌동_naver_result.csv\n",
      "C:/Users/user/OneDrive - 이화여자대학교/3-1/05 파이썬과데이터분석/크롤링결과/연희동_naver_result.csv\n",
      "C:/Users/user/OneDrive - 이화여자대학교/3-1/05 파이썬과데이터분석/크롤링결과/천연동_naver_result.csv\n",
      "C:/Users/user/OneDrive - 이화여자대학교/3-1/05 파이썬과데이터분석/크롤링결과/충현동_naver_result.csv\n",
      "C:/Users/user/OneDrive - 이화여자대학교/3-1/05 파이썬과데이터분석/크롤링결과/홍은1동_naver_result.csv\n",
      "C:/Users/user/OneDrive - 이화여자대학교/3-1/05 파이썬과데이터분석/크롤링결과/홍은2동_naver_result.csv\n",
      "C:/Users/user/OneDrive - 이화여자대학교/3-1/05 파이썬과데이터분석/크롤링결과/홍제1동_naver_result.csv\n",
      "C:/Users/user/OneDrive - 이화여자대학교/3-1/05 파이썬과데이터분석/크롤링결과/홍제2동_naver_result.csv\n",
      "C:/Users/user/OneDrive - 이화여자대학교/3-1/05 파이썬과데이터분석/크롤링결과/홍제3동_naver_result.csv\n"
     ]
    }
   ],
   "source": [
    "# 크롤링 한 파일 목록들 확인\n",
    "import os\n",
    "\n",
    "path_dir = 'C:/Users/user/OneDrive - 이화여자대학교/3-1/05 파이썬과데이터분석/크롤링결과/'\n",
    "#csv파일이 있는 폴더 경로 입력\n",
    "\n",
    "for dirname, _, filenames in os.walk(path_dir):\n",
    "    for filename in filenames:\n",
    "        print(os.path.join(dirname, filename))"
   ]
  },
  {
   "cell_type": "code",
   "execution_count": 4,
   "metadata": {
    "scrolled": true
   },
   "outputs": [
    {
     "name": "stdout",
     "output_type": "stream",
     "text": [
      "['C:/Users/user/OneDrive - 이화여자대학교/3-1/05 파이썬과데이터분석/크롤링결과/google_result_남가좌1동.csv', 'C:/Users/user/OneDrive - 이화여자대학교/3-1/05 파이썬과데이터분석/크롤링결과/google_result_남가좌2동.csv', 'C:/Users/user/OneDrive - 이화여자대학교/3-1/05 파이썬과데이터분석/크롤링결과/google_result_북가좌1동.csv', 'C:/Users/user/OneDrive - 이화여자대학교/3-1/05 파이썬과데이터분석/크롤링결과/google_result_북가좌2동.csv', 'C:/Users/user/OneDrive - 이화여자대학교/3-1/05 파이썬과데이터분석/크롤링결과/google_result_북아현동.csv', 'C:/Users/user/OneDrive - 이화여자대학교/3-1/05 파이썬과데이터분석/크롤링결과/google_result_신촌동.csv', 'C:/Users/user/OneDrive - 이화여자대학교/3-1/05 파이썬과데이터분석/크롤링결과/google_result_연희동.csv', 'C:/Users/user/OneDrive - 이화여자대학교/3-1/05 파이썬과데이터분석/크롤링결과/google_result_천연동.csv', 'C:/Users/user/OneDrive - 이화여자대학교/3-1/05 파이썬과데이터분석/크롤링결과/google_result_충현동.csv', 'C:/Users/user/OneDrive - 이화여자대학교/3-1/05 파이썬과데이터분석/크롤링결과/google_result_홍은1동.csv', 'C:/Users/user/OneDrive - 이화여자대학교/3-1/05 파이썬과데이터분석/크롤링결과/google_result_홍은2동.csv', 'C:/Users/user/OneDrive - 이화여자대학교/3-1/05 파이썬과데이터분석/크롤링결과/google_result_홍제1동.csv', 'C:/Users/user/OneDrive - 이화여자대학교/3-1/05 파이썬과데이터분석/크롤링결과/google_result_홍제2동.csv', 'C:/Users/user/OneDrive - 이화여자대학교/3-1/05 파이썬과데이터분석/크롤링결과/google_result_홍제3동.csv']\n",
      "\n",
      "['C:/Users/user/OneDrive - 이화여자대학교/3-1/05 파이썬과데이터분석/크롤링결과/남가좌1동_naver_result.csv', 'C:/Users/user/OneDrive - 이화여자대학교/3-1/05 파이썬과데이터분석/크롤링결과/남가좌2동_naver_result.csv', 'C:/Users/user/OneDrive - 이화여자대학교/3-1/05 파이썬과데이터분석/크롤링결과/북가좌1동_naver_result.csv', 'C:/Users/user/OneDrive - 이화여자대학교/3-1/05 파이썬과데이터분석/크롤링결과/북가좌2동_naver_result.csv', 'C:/Users/user/OneDrive - 이화여자대학교/3-1/05 파이썬과데이터분석/크롤링결과/북아현동_naver_result.csv', 'C:/Users/user/OneDrive - 이화여자대학교/3-1/05 파이썬과데이터분석/크롤링결과/신촌동_naver_result.csv', 'C:/Users/user/OneDrive - 이화여자대학교/3-1/05 파이썬과데이터분석/크롤링결과/연희동_naver_result.csv', 'C:/Users/user/OneDrive - 이화여자대학교/3-1/05 파이썬과데이터분석/크롤링결과/천연동_naver_result.csv', 'C:/Users/user/OneDrive - 이화여자대학교/3-1/05 파이썬과데이터분석/크롤링결과/충현동_naver_result.csv', 'C:/Users/user/OneDrive - 이화여자대학교/3-1/05 파이썬과데이터분석/크롤링결과/홍은1동_naver_result.csv', 'C:/Users/user/OneDrive - 이화여자대학교/3-1/05 파이썬과데이터분석/크롤링결과/홍은2동_naver_result.csv', 'C:/Users/user/OneDrive - 이화여자대학교/3-1/05 파이썬과데이터분석/크롤링결과/홍제1동_naver_result.csv', 'C:/Users/user/OneDrive - 이화여자대학교/3-1/05 파이썬과데이터분석/크롤링결과/홍제2동_naver_result.csv', 'C:/Users/user/OneDrive - 이화여자대학교/3-1/05 파이썬과데이터분석/크롤링결과/홍제3동_naver_result.csv']\n"
     ]
    }
   ],
   "source": [
    "# 각 크롤링 파일들의 경로를 naver 와 google 로 나누어서 각 리스트에 저장\n",
    "google_list = []\n",
    "naver_list = []\n",
    "path_dir = 'C:/Users/user/OneDrive - 이화여자대학교/3-1/05 파이썬과데이터분석/크롤링결과/'\n",
    "for dirname, _, filenames in os.walk(path_dir):\n",
    "    for filename in filenames:\n",
    "        if 'google' in filename:\n",
    "            google_list.append(os.path.join(dirname, filename))\n",
    "        if 'naver' in filename:\n",
    "            naver_list.append(os.path.join(dirname, filename))\n",
    "        \n",
    "print(google_list)\n",
    "print()\n",
    "print(naver_list)"
   ]
  },
  {
   "cell_type": "code",
   "execution_count": 5,
   "metadata": {
    "scrolled": true
   },
   "outputs": [
    {
     "name": "stdout",
     "output_type": "stream",
     "text": [
      "C:/Users/user/OneDrive - 이화여자대학교/3-1/05 파이썬과데이터분석/크롤링결과/google_result_남가좌1동.csv\n",
      "C:/Users/user/OneDrive - 이화여자대학교/3-1/05 파이썬과데이터분석/크롤링결과/google_result_남가좌2동.csv\n",
      "C:/Users/user/OneDrive - 이화여자대학교/3-1/05 파이썬과데이터분석/크롤링결과/google_result_북가좌1동.csv\n",
      "C:/Users/user/OneDrive - 이화여자대학교/3-1/05 파이썬과데이터분석/크롤링결과/google_result_북가좌2동.csv\n",
      "C:/Users/user/OneDrive - 이화여자대학교/3-1/05 파이썬과데이터분석/크롤링결과/google_result_북아현동.csv\n",
      "C:/Users/user/OneDrive - 이화여자대학교/3-1/05 파이썬과데이터분석/크롤링결과/google_result_신촌동.csv\n",
      "C:/Users/user/OneDrive - 이화여자대학교/3-1/05 파이썬과데이터분석/크롤링결과/google_result_연희동.csv\n",
      "C:/Users/user/OneDrive - 이화여자대학교/3-1/05 파이썬과데이터분석/크롤링결과/google_result_천연동.csv\n",
      "C:/Users/user/OneDrive - 이화여자대학교/3-1/05 파이썬과데이터분석/크롤링결과/google_result_충현동.csv\n",
      "C:/Users/user/OneDrive - 이화여자대학교/3-1/05 파이썬과데이터분석/크롤링결과/google_result_홍은1동.csv\n",
      "C:/Users/user/OneDrive - 이화여자대학교/3-1/05 파이썬과데이터분석/크롤링결과/google_result_홍은2동.csv\n",
      "C:/Users/user/OneDrive - 이화여자대학교/3-1/05 파이썬과데이터분석/크롤링결과/google_result_홍제1동.csv\n",
      "C:/Users/user/OneDrive - 이화여자대학교/3-1/05 파이썬과데이터분석/크롤링결과/google_result_홍제2동.csv\n",
      "C:/Users/user/OneDrive - 이화여자대학교/3-1/05 파이썬과데이터분석/크롤링결과/google_result_홍제3동.csv\n"
     ]
    }
   ],
   "source": [
    "# 각 경로를 넣은 리스트를 토대로 각 파일을 불러와서 리스트에 저장\n",
    "google_data = []\n",
    "naver_data = []\n",
    "for file in google_list:\n",
    "    print(file)\n",
    "    df = pd.read_csv(file, sep=',', encoding = 'utf-8')\n",
    "    google_data.append(df)\n",
    "    \n",
    "for file in naver_list:\n",
    "    df = pd.read_csv(file, sep=',', encoding = 'utf-8')\n",
    "    naver_data.append(df)"
   ]
  },
  {
   "cell_type": "code",
   "execution_count": 6,
   "metadata": {
    "scrolled": true
   },
   "outputs": [
    {
     "name": "stdout",
     "output_type": "stream",
     "text": [
      "0 116\n",
      "1 237\n",
      "2 69\n",
      "3 255\n",
      "4 115\n",
      "5 1114\n",
      "6 450\n",
      "7 122\n",
      "8 385\n",
      "9 157\n",
      "10 222\n",
      "11 142\n",
      "12 74\n",
      "13 191\n",
      "0 94\n",
      "1 174\n",
      "2 54\n",
      "3 187\n",
      "4 81\n",
      "5 749\n",
      "6 347\n",
      "7 86\n",
      "8 307\n",
      "9 111\n",
      "10 110\n",
      "11 115\n",
      "12 57\n",
      "13 143\n"
     ]
    }
   ],
   "source": [
    "# 각 데이터의 길이 확인\n",
    "for i, data in enumerate(google_data):\n",
    "    print(i, len(data))\n",
    "for i, data in enumerate(naver_data):\n",
    "    print(i, len(data))"
   ]
  },
  {
   "cell_type": "code",
   "execution_count": 85,
   "metadata": {
    "scrolled": true
   },
   "outputs": [
    {
     "data": {
      "text/plain": [
       "['남가좌1동',\n",
       " '남가좌2동',\n",
       " '북가좌1동',\n",
       " '북가좌2동',\n",
       " '북아현동',\n",
       " '신촌동',\n",
       " '연희동',\n",
       " '천연동',\n",
       " '충현동',\n",
       " '홍은1동',\n",
       " '홍은2동',\n",
       " '홍제1동',\n",
       " '홍제2동',\n",
       " '홍제3동']"
      ]
     },
     "execution_count": 85,
     "metadata": {},
     "output_type": "execute_result"
    }
   ],
   "source": [
    "# 행정동별로 크롤링 파일을 합칠 것이기 때문에 행정동명을 리스트로 만듦\n",
    "dong_list = []\n",
    "for i in naver_data:\n",
    "    dong_list.append(i['행정동명'].iloc[0])\n",
    "dong_list"
   ]
  },
  {
   "cell_type": "code",
   "execution_count": 103,
   "metadata": {
    "scrolled": true
   },
   "outputs": [
    {
     "name": "stdout",
     "output_type": "stream",
     "text": [
      "0 105\n",
      "1 203\n",
      "2 56\n",
      "3 201\n",
      "4 98\n",
      "5 894\n",
      "6 380\n",
      "7 111\n",
      "8 305\n",
      "9 126\n",
      "10 195\n",
      "11 129\n",
      "12 70\n",
      "13 166\n"
     ]
    }
   ],
   "source": [
    "# 중복되는 식당의 데이터를 모두 제거\n",
    "for i in range(len(google_data)):\n",
    "    google_data[i] = google_data[i].drop_duplicates(['name'])\n",
    "for i, data in enumerate(google_data):\n",
    "    print(i, len(data))"
   ]
  },
  {
   "cell_type": "code",
   "execution_count": 108,
   "metadata": {},
   "outputs": [
    {
     "name": "stdout",
     "output_type": "stream",
     "text": [
      "---------------------\n",
      "0번째 파일 진행중\n",
      "빈값의 수: 0\n",
      "겹치는 이름 수: 69, 69\n",
      "별점, 리뷰 길이: 69, 69\n",
      "남가좌1동 데이터 옮기기 완료!!\n",
      "남가좌1동 파일 저장완료!!\n",
      "\n",
      "---------------------\n",
      "1번째 파일 진행중\n",
      "빈값의 수: 0\n",
      "겹치는 이름 수: 132, 132\n",
      "별점, 리뷰 길이: 132, 132\n",
      "남가좌2동 데이터 옮기기 완료!!\n",
      "남가좌2동 파일 저장완료!!\n",
      "\n",
      "---------------------\n",
      "2번째 파일 진행중\n",
      "빈값의 수: 0\n",
      "겹치는 이름 수: 35, 35\n",
      "별점, 리뷰 길이: 35, 35"
     ]
    },
    {
     "name": "stderr",
     "output_type": "stream",
     "text": [
      "C:\\Users\\user\\anaconda3\\lib\\site-packages\\pandas\\core\\indexing.py:670: SettingWithCopyWarning: \n",
      "A value is trying to be set on a copy of a slice from a DataFrame\n",
      "\n",
      "See the caveats in the documentation: https://pandas.pydata.org/pandas-docs/stable/user_guide/indexing.html#returning-a-view-versus-a-copy\n",
      "  iloc._setitem_with_indexer(indexer, value)\n"
     ]
    },
    {
     "name": "stdout",
     "output_type": "stream",
     "text": [
      "\n",
      "북가좌1동 데이터 옮기기 완료!!\n",
      "북가좌1동 파일 저장완료!!\n",
      "\n",
      "---------------------\n",
      "3번째 파일 진행중\n",
      "빈값의 수: 0\n",
      "겹치는 이름 수: 132, 132\n",
      "별점, 리뷰 길이: 132, 132\n",
      "북가좌2동 데이터 옮기기 완료!!\n",
      "북가좌2동 파일 저장완료!!\n",
      "\n",
      "---------------------\n",
      "4번째 파일 진행중\n",
      "빈값의 수: 0\n",
      "겹치는 이름 수: 66, 66\n",
      "별점, 리뷰 길이: 66, 66\n",
      "북아현동 데이터 옮기기 완료!!\n",
      "북아현동 파일 저장완료!!\n",
      "\n",
      "---------------------\n",
      "5번째 파일 진행중\n",
      "빈값의 수: 0\n",
      "겹치는 이름 수: 660, 660\n",
      "별점, 리뷰 길이: 660, 660\n",
      "신촌동 데이터 옮기기 완료!!\n",
      "신촌동 파일 저장완료!!\n",
      "\n",
      "---------------------\n",
      "6번째 파일 진행중\n",
      "빈값의 수: 0\n",
      "겹치는 이름 수: 304, 304\n",
      "별점, 리뷰 길이: 304, 304\n",
      "연희동 데이터 옮기기 완료!!\n",
      "연희동 파일 저장완료!!\n",
      "\n",
      "---------------------\n",
      "7번째 파일 진행중\n",
      "빈값의 수: 0\n",
      "겹치는 이름 수: 60, 60\n",
      "별점, 리뷰 길이: 60, 60\n",
      "천연동 데이터 옮기기 완료!!\n",
      "천연동 파일 저장완료!!\n",
      "\n",
      "---------------------\n",
      "8번째 파일 진행중\n",
      "빈값의 수: 0\n",
      "겹치는 이름 수: 267, 267\n",
      "별점, 리뷰 길이: 267, 267\n",
      "충현동 데이터 옮기기 완료!!\n",
      "충현동 파일 저장완료!!\n",
      "\n",
      "---------------------\n",
      "9번째 파일 진행중\n",
      "빈값의 수: 0\n",
      "겹치는 이름 수: 73, 73\n",
      "별점, 리뷰 길이: 73, 73\n",
      "홍은1동 데이터 옮기기 완료!!\n",
      "홍은1동 파일 저장완료!!\n",
      "\n",
      "---------------------\n",
      "10번째 파일 진행중\n",
      "빈값의 수: 0\n",
      "겹치는 이름 수: 89, 89\n",
      "별점, 리뷰 길이: 89, 89\n",
      "홍은2동 데이터 옮기기 완료!!\n",
      "홍은2동 파일 저장완료!!\n",
      "\n",
      "---------------------\n",
      "11번째 파일 진행중\n",
      "빈값의 수: 0\n",
      "겹치는 이름 수: 92, 92\n",
      "별점, 리뷰 길이: 92, 92\n",
      "홍제1동 데이터 옮기기 완료!!\n",
      "홍제1동 파일 저장완료!!\n",
      "\n",
      "---------------------\n",
      "12번째 파일 진행중\n",
      "빈값의 수: 0\n",
      "겹치는 이름 수: 46, 46\n",
      "별점, 리뷰 길이: 46, 46\n",
      "홍제2동 데이터 옮기기 완료!!\n",
      "홍제2동 파일 저장완료!!\n",
      "\n",
      "---------------------\n",
      "13번째 파일 진행중\n",
      "빈값의 수: 0\n",
      "겹치는 이름 수: 106, 106\n",
      "별점, 리뷰 길이: 106, 106\n",
      "홍제3동 데이터 옮기기 완료!!\n",
      "홍제3동 파일 저장완료!!\n",
      "\n"
     ]
    }
   ],
   "source": [
    "######## 모두 하나로 합치기 ##########\n",
    "for i in range(len(naver_data)):\n",
    "    print('---------------------')\n",
    "    print('{}번째 파일 진행중'.format(i))\n",
    "    naver_data[i] = naver_data[i].fillna('null') # 빈칸 채워넣기(오류 방지)\n",
    "    naver_data[i]['google_rate'] = 0.0           # 구글 데이터를 합치기 위해 컬럼 생성\n",
    "    naver_data[i]['google_review'] = 'null'\n",
    "    print('빈값의 수: {}'.format(naver_data[i].isna().sum().sum())) # 빈칸 있는지 확인: 0이 나와야 정상\n",
    "    \n",
    "    ## 구글데이터와 네이버데이터의 식당 이름을 비교해서 같은 식당이면 정보 매치\n",
    "    same_naver = []\n",
    "    same_google = []\n",
    "    for name in google_data[i]['name']:\n",
    "        for shop in naver_data[i]['상호명'].tolist():\n",
    "            if name in shop:\n",
    "                same_naver.append(shop)\n",
    "                same_google.append(name)\n",
    "                continue\n",
    "            if shop in name:\n",
    "                same_naver.append(shop)\n",
    "                same_google.append(name)\n",
    "    print('겹치는 이름 수: {}, {}'.format(len(same_naver), len(same_google)))\n",
    "    \n",
    "    ## 같은 식당일시, 그 식당의 구글 크롤링 데이터 순서대로 리스트에 저장\n",
    "    rate_data = []\n",
    "    review_data = []\n",
    "    for j in range(len(same_naver)):\n",
    "        rate_data.append(google_data[i]['star'].loc[google_data[i]['name'] == same_google[j]].item())\n",
    "        review_data.append(google_data[i]['review'].loc[google_data[i]['name'] == same_google[j]].item())\n",
    "    print('별점, 리뷰 길이: {}, {}'.format(len(rate_data), len(review_data)))\n",
    "    \n",
    "    ## 리스트에 저장한 데이터를 맞는 식당의 google 컬럼에 저장\n",
    "    for k in range(len(same_naver)):\n",
    "        naver_data[i]['google_rate'].loc[naver_data[i]['상호명'] == same_naver[k]] = rate_data[k]\n",
    "        naver_data[i]['google_review'].loc[naver_data[i]['상호명'] == same_naver[k]] = review_data[k]\n",
    "    print('{} 데이터 옮기기 완료!!'.format(dong_list[i]))\n",
    "    \n",
    "    ## 데이터 옮기기를 완료한 파일 행정동별로 저장하기\n",
    "    naver_data[i].to_csv('C:/Users/user/OneDrive - 이화여자대학교/3-1/05 파이썬과데이터분석/크롤링결과/final_{}.csv'.format(dong_list[i]), encoding='utf-8')\n",
    "    print('{} 파일 저장완료!!'.format(dong_list[i]))\n",
    "    print()"
   ]
  },
  {
   "cell_type": "code",
   "execution_count": 109,
   "metadata": {},
   "outputs": [
    {
     "data": {
      "text/plain": [
       "2504"
      ]
     },
     "execution_count": 109,
     "metadata": {},
     "output_type": "execute_result"
    }
   ],
   "source": [
    "# 모든 행정동별 파일 합치기\n",
    "whole = pd.concat(naver_data)\n",
    "len(whole)"
   ]
  },
  {
   "cell_type": "code",
   "execution_count": 110,
   "metadata": {
    "scrolled": true
   },
   "outputs": [
    {
     "data": {
      "text/html": [
       "<div>\n",
       "<style scoped>\n",
       "    .dataframe tbody tr th:only-of-type {\n",
       "        vertical-align: middle;\n",
       "    }\n",
       "\n",
       "    .dataframe tbody tr th {\n",
       "        vertical-align: top;\n",
       "    }\n",
       "\n",
       "    .dataframe thead th {\n",
       "        text-align: right;\n",
       "    }\n",
       "</style>\n",
       "<table border=\"1\" class=\"dataframe\">\n",
       "  <thead>\n",
       "    <tr style=\"text-align: right;\">\n",
       "      <th></th>\n",
       "      <th>상호명</th>\n",
       "      <th>상권업종대분류명</th>\n",
       "      <th>상권업종소분류명</th>\n",
       "      <th>시도명</th>\n",
       "      <th>시군구명</th>\n",
       "      <th>행정동명</th>\n",
       "      <th>도로명주소</th>\n",
       "      <th>경도</th>\n",
       "      <th>위도</th>\n",
       "      <th>naver_keyword</th>\n",
       "      <th>naver_map_url</th>\n",
       "      <th>naver_visitor_review_num</th>\n",
       "      <th>naver_visitor_review_rate</th>\n",
       "      <th>naver_visitor_review_text</th>\n",
       "      <th>google_rate</th>\n",
       "      <th>google_review</th>\n",
       "    </tr>\n",
       "  </thead>\n",
       "  <tbody>\n",
       "    <tr>\n",
       "      <th>0</th>\n",
       "      <td>감자바우곤드레밥</td>\n",
       "      <td>음식</td>\n",
       "      <td>한식/백반/한정식</td>\n",
       "      <td>서울특별시</td>\n",
       "      <td>서대문구</td>\n",
       "      <td>남가좌1동</td>\n",
       "      <td>서울특별시 서대문구 수색로2길 7</td>\n",
       "      <td>126.915967</td>\n",
       "      <td>37.569179</td>\n",
       "      <td>남가좌1동%20감자바우곤드레밥</td>\n",
       "      <td>https://m.place.naver.com/restaurant/13270081</td>\n",
       "      <td>52</td>\n",
       "      <td>4.31</td>\n",
       "      <td>['밥 왜이렇게 늦게먹냐고 이럴줄 알았으면 밥 안 줬다고 주인이 역정내는집. 7시에...</td>\n",
       "      <td>3.7</td>\n",
       "      <td>['곤드레 돌솥밥 향기롭고 반찬도 다 맛있어요', '곤드레가 별미네요\\n청국장은 덤...</td>\n",
       "    </tr>\n",
       "    <tr>\n",
       "      <th>1</th>\n",
       "      <td>단비</td>\n",
       "      <td>음식</td>\n",
       "      <td>호프/맥주</td>\n",
       "      <td>서울특별시</td>\n",
       "      <td>서대문구</td>\n",
       "      <td>남가좌1동</td>\n",
       "      <td>서울특별시 서대문구 수색로 42</td>\n",
       "      <td>126.914240</td>\n",
       "      <td>37.570433</td>\n",
       "      <td>남가좌1동%20단비</td>\n",
       "      <td>https://m.place.naver.com/restaurant/1575351305</td>\n",
       "      <td>null</td>\n",
       "      <td>null</td>\n",
       "      <td>null</td>\n",
       "      <td>0.0</td>\n",
       "      <td>null</td>\n",
       "    </tr>\n",
       "    <tr>\n",
       "      <th>2</th>\n",
       "      <td>고봉민김밥인</td>\n",
       "      <td>음식</td>\n",
       "      <td>라면김밥분식</td>\n",
       "      <td>서울특별시</td>\n",
       "      <td>서대문구</td>\n",
       "      <td>남가좌1동</td>\n",
       "      <td>서울특별시 서대문구 가재울미래로 2</td>\n",
       "      <td>126.917828</td>\n",
       "      <td>37.574368</td>\n",
       "      <td>남가좌1동%20고봉민김밥인</td>\n",
       "      <td>https://m.place.naver.com/restaurant/37793363</td>\n",
       "      <td>145</td>\n",
       "      <td>4.3</td>\n",
       "      <td>['맛은 여전히 맞있는데. 야채가 조금 부실 했음', '좋아요', '맛있어요 김밥'...</td>\n",
       "      <td>1.0</td>\n",
       "      <td>['서비스 엉망입니다\\n가지 않으시는걸 추천드립니다']</td>\n",
       "    </tr>\n",
       "    <tr>\n",
       "      <th>3</th>\n",
       "      <td>광풍정육식당</td>\n",
       "      <td>음식</td>\n",
       "      <td>갈비/삼겹살</td>\n",
       "      <td>서울특별시</td>\n",
       "      <td>서대문구</td>\n",
       "      <td>남가좌1동</td>\n",
       "      <td>서울특별시 서대문구 수색로4가길 14-4</td>\n",
       "      <td>126.914553</td>\n",
       "      <td>37.570671</td>\n",
       "      <td>남가좌1동%20광풍정육식당</td>\n",
       "      <td>https://m.place.naver.com/restaurant/32731448</td>\n",
       "      <td>null</td>\n",
       "      <td>null</td>\n",
       "      <td>null</td>\n",
       "      <td>0.0</td>\n",
       "      <td>null</td>\n",
       "    </tr>\n",
       "    <tr>\n",
       "      <th>4</th>\n",
       "      <td>엄마맛집</td>\n",
       "      <td>음식</td>\n",
       "      <td>한식/백반/한정식</td>\n",
       "      <td>서울특별시</td>\n",
       "      <td>서대문구</td>\n",
       "      <td>남가좌1동</td>\n",
       "      <td>서울특별시 서대문구 수색로4가길 6</td>\n",
       "      <td>126.914896</td>\n",
       "      <td>37.570475</td>\n",
       "      <td>남가좌1동%20엄마맛집</td>\n",
       "      <td>https://m.place.naver.com/restaurant/13018229</td>\n",
       "      <td>512</td>\n",
       "      <td>4.35</td>\n",
       "      <td>['▪️주문 메뉴 : 떡볶이 1 , 어묵 2 , 김말이 1 ▪️ 주차 : 인근 골목...</td>\n",
       "      <td>0.0</td>\n",
       "      <td>null</td>\n",
       "    </tr>\n",
       "  </tbody>\n",
       "</table>\n",
       "</div>"
      ],
      "text/plain": [
       "        상호명 상권업종대분류명   상권업종소분류명    시도명  시군구명   행정동명                   도로명주소  \\\n",
       "0  감자바우곤드레밥       음식  한식/백반/한정식  서울특별시  서대문구  남가좌1동      서울특별시 서대문구 수색로2길 7   \n",
       "1        단비       음식      호프/맥주  서울특별시  서대문구  남가좌1동       서울특별시 서대문구 수색로 42   \n",
       "2    고봉민김밥인       음식     라면김밥분식  서울특별시  서대문구  남가좌1동     서울특별시 서대문구 가재울미래로 2   \n",
       "3    광풍정육식당       음식     갈비/삼겹살  서울특별시  서대문구  남가좌1동  서울특별시 서대문구 수색로4가길 14-4   \n",
       "4      엄마맛집       음식  한식/백반/한정식  서울특별시  서대문구  남가좌1동     서울특별시 서대문구 수색로4가길 6   \n",
       "\n",
       "           경도         위도     naver_keyword  \\\n",
       "0  126.915967  37.569179  남가좌1동%20감자바우곤드레밥   \n",
       "1  126.914240  37.570433        남가좌1동%20단비   \n",
       "2  126.917828  37.574368    남가좌1동%20고봉민김밥인   \n",
       "3  126.914553  37.570671    남가좌1동%20광풍정육식당   \n",
       "4  126.914896  37.570475      남가좌1동%20엄마맛집   \n",
       "\n",
       "                                     naver_map_url naver_visitor_review_num  \\\n",
       "0    https://m.place.naver.com/restaurant/13270081                       52   \n",
       "1  https://m.place.naver.com/restaurant/1575351305                     null   \n",
       "2    https://m.place.naver.com/restaurant/37793363                      145   \n",
       "3    https://m.place.naver.com/restaurant/32731448                     null   \n",
       "4    https://m.place.naver.com/restaurant/13018229                      512   \n",
       "\n",
       "  naver_visitor_review_rate  \\\n",
       "0                      4.31   \n",
       "1                      null   \n",
       "2                       4.3   \n",
       "3                      null   \n",
       "4                      4.35   \n",
       "\n",
       "                           naver_visitor_review_text  google_rate  \\\n",
       "0  ['밥 왜이렇게 늦게먹냐고 이럴줄 알았으면 밥 안 줬다고 주인이 역정내는집. 7시에...          3.7   \n",
       "1                                               null          0.0   \n",
       "2  ['맛은 여전히 맞있는데. 야채가 조금 부실 했음', '좋아요', '맛있어요 김밥'...          1.0   \n",
       "3                                               null          0.0   \n",
       "4  ['▪️주문 메뉴 : 떡볶이 1 , 어묵 2 , 김말이 1 ▪️ 주차 : 인근 골목...          0.0   \n",
       "\n",
       "                                       google_review  \n",
       "0  ['곤드레 돌솥밥 향기롭고 반찬도 다 맛있어요', '곤드레가 별미네요\\n청국장은 덤...  \n",
       "1                                               null  \n",
       "2                     ['서비스 엉망입니다\\n가지 않으시는걸 추천드립니다']  \n",
       "3                                               null  \n",
       "4                                               null  "
      ]
     },
     "execution_count": 110,
     "metadata": {},
     "output_type": "execute_result"
    }
   ],
   "source": [
    "whole.head()"
   ]
  },
  {
   "cell_type": "code",
   "execution_count": 111,
   "metadata": {},
   "outputs": [],
   "source": [
    "# 전체 파일 저장\n",
    "whole.to_csv('C:/Users/user/OneDrive - 이화여자대학교/3-1/05 파이썬과데이터분석/크롤링결과/final_all.csv', encoding='utf-8')"
   ]
  },
  {
   "cell_type": "code",
   "execution_count": null,
   "metadata": {},
   "outputs": [],
   "source": []
  }
 ],
 "metadata": {
  "kernelspec": {
   "display_name": "Python 3",
   "language": "python",
   "name": "python3"
  },
  "language_info": {
   "codemirror_mode": {
    "name": "ipython",
    "version": 3
   },
   "file_extension": ".py",
   "mimetype": "text/x-python",
   "name": "python",
   "nbconvert_exporter": "python",
   "pygments_lexer": "ipython3",
   "version": "3.7.0"
  }
 },
 "nbformat": 4,
 "nbformat_minor": 5
}
